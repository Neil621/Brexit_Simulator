{
 "cells": [
  {
   "cell_type": "code",
   "execution_count": 7,
   "metadata": {
    "collapsed": true,
    "deletable": true,
    "editable": true
   },
   "outputs": [],
   "source": [
    "import random \n",
    "\n",
    "#start game with range of 1 to n+1 \"choices\"\n",
    "#for one randomly generated number in range\n",
    "#make one door a psotive choice\n",
    "def initialize_game(n):\n",
    "    from random import randrange\n",
    "    random_no=random.randrange(1, n+1)\n",
    "\n",
    "    numbers = range(1,n+1)\n",
    "    dict_rand = {}\n",
    "    \n",
    "# Add values to `new_dict` using for loop\n",
    "    for i in numbers:\n",
    "            dict_rand['Door '+str(i)]= 'Goat'\n",
    "            if i == random_no:\n",
    "                dict_rand['Door '+str(random_no)] = 'Car'\n",
    "    return dict_rand"
   ]
  }
 ],
 "metadata": {
  "kernelspec": {
   "display_name": "Python 3",
   "language": "python",
   "name": "python3"
  },
  "language_info": {
   "codemirror_mode": {
    "name": "ipython",
    "version": 3
   },
   "file_extension": ".py",
   "mimetype": "text/x-python",
   "name": "python",
   "nbconvert_exporter": "python",
   "pygments_lexer": "ipython3",
   "version": "3.5.2"
  }
 },
 "nbformat": 4,
 "nbformat_minor": 2
}
