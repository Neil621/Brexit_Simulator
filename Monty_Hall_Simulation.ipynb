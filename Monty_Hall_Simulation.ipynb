{
 "cells": [
  {
   "cell_type": "code",
   "execution_count": 93,
   "metadata": {
    "collapsed": false,
    "deletable": true,
    "editable": true
   },
   "outputs": [],
   "source": [
    "#start game with range of 1 to n+1 choices where n is an even number\n",
    "#randomly assign \"Positive\" outcomes to 50%\n",
    "\n",
    "\n",
    "import random \n",
    "\n",
    "#start game with range of 1 to n+1 \"choices\"\n",
    "#for one randomly generated number in range\n",
    "\n",
    "def initialize_game(n):\n",
    "    #check n is even\n",
    "    assert n% 2 == 0\n",
    "    from random import randrange\n",
    "    \n",
    "    numbers = range(1,n+1)\n",
    "    winning_numbers=range(1,n+1,2)\n",
    "    #random_no=random.randrange(1, n+1)\n",
    "\n",
    "    \n",
    "    choice_dict = {}\n",
    "    \n",
    "# Add values to `new_dict` using for loop\n",
    "    for i in numbers:\n",
    "            choice_dict['Choice '+str(i)]= 'Lose'\n",
    "            #if i == random_no:\n",
    "            for i in winning_numbers:\n",
    "                choice_dict['Choice '+str(i)] = 'Win'\n",
    "    return choice_dict"
   ]
  },
  {
   "cell_type": "code",
   "execution_count": 95,
   "metadata": {
    "collapsed": true,
    "deletable": true,
    "editable": true
   },
   "outputs": [],
   "source": [
    "#define function to delete items from dictionary\n",
    "def entries_to_remove(entries, the_dict):\n",
    "    for key in entries:\n",
    "        if key in the_dict:\n",
    "            del the_dict[key]\n",
    "            \n",
    "            \n",
    "#choice_dict= {'Choice 1': 'Win','Choice 2': 'Lose','Choice 3': 'Win','Choice 4': 'Lose','Choice 5': 'Win','Choice 6': 'Lose'}   \n",
    "#win_choice_v = {k: v for k, v in choice_dict.items() if v=='Win'}\n",
    "#entries_to_remove(win_choice_v,choice_dict)\n",
    "#choice_dict\n"
   ]
  },
  {
   "cell_type": "code",
   "execution_count": 191,
   "metadata": {
    "collapsed": false
   },
   "outputs": [],
   "source": [
    "import random\n",
    "\n",
    "#the object here is to simulate the EU \n",
    "#seeing a selection of \"negative\" choices (k) and being able to avoid them\n",
    "#the k negative choices once revealed are removed from selection\n",
    "\n",
    "def monty_opens(choice_dict, player_choice, k):\n",
    "    assert type(choice_dict) is dict, \"input variable choice_dict should be a dictionary\"\n",
    "    #assert k <= len(choice_dict) - 2, \"Incorrect number of choices to be opened in dictionary\"\n",
    "\n",
    "\n",
    "    dummary_dict=choice_dict.copy()\n",
    "    ext = 'Choice '\n",
    "\n",
    "\n",
    "\n",
    "#1. check whether player picked a loss or a win\n",
    "    \n",
    "    \n",
    "    player_choice_key=(ext + str(player_choice))\n",
    "\n",
    "#player door entry\n",
    "    player_choice_v= {x: y for x, y in choice_dict.items() if x==player_choice_key}\n",
    "\n",
    "\n",
    "#2. find out which door has car behind it\n",
    "    win_choice_v = {x: y for x, y in choice_dict.items() if y=='Win'}\n",
    "\n",
    "#Case 1, k out of remaining n-2\n",
    "#create temp dict removing  goat (player) AND car\n",
    "\n",
    "\n",
    "\n",
    "    if choice_dict.get(player_choice_key)=='Lose':\n",
    "        player_choice_v= [x for x, y in choice_dict.items() if x==player_choice_key]\n",
    "\n",
    "        win_choice_vb = [x for x, y in choice_dict.items() if y=='Win']\n",
    "        win_choice_v=''.join(map(str, [win_choice_vb]))\n",
    "\n",
    "        ext = 'Choice '\n",
    "        player_choice=(ext + str(player_choice))\n",
    "        player_choice_dict= {x : y for x, y in choice_dict.items() if x==player_choice_key}\n",
    "        win_choice_dict = {x : y for x, y in choice_dict.items() if y=='Win'}\n",
    "        player_choice_dict.update(win_choice_dict) \n",
    "         \n",
    "\n",
    "    #removing players choice and also winning choices from k\n",
    "        del dummary_dict[player_choice_key]\n",
    "        entries_to_remove(eval(win_choice_v),dummary_dict)\n",
    "    \n",
    "    \n",
    "    \n",
    "#at this point want to delete k entries \n",
    "        for key in random.sample(dummary_dict.keys(), k):\n",
    "            del dummary_dict[key]     \n",
    "        \n",
    "    #at this point add back in winning choices and player choice\n",
    "        dummary_dict.update(player_choice_dict) \n",
    "        choice_dict=dummary_dict\n",
    "    \n",
    "#case 2, k out of remaining n-1\n",
    "    elif choice_dict.get(player_choice_key)=='Win':\n",
    "    \n",
    "         \n",
    "        #ext = 'Choice '\n",
    "        #player_choice_key=(ext + str(player_choice))\n",
    "        #player_choice_v= [x for x, y in choice_dict.items() if x==player_choice_key]\n",
    "        #player_choice_dict= {x : y for x, y in choice_dict.items() if x==player_choice_key}\n",
    "    \n",
    "    \n",
    "        win_choice_vb = [x for x, y in choice_dict.items() if y=='Win']\n",
    "        win_choice_v=''.join(map(str, [win_choice_vb]))\n",
    "        win_choice_dict = {x : y for x, y in choice_dict.items() if y=='Win'}\n",
    "        \n",
    "#remove player choice\n",
    "         #if player_choice in dummary_dict:\n",
    "        #del dummary_dict[player_choice_key]\n",
    "        entries_to_remove(eval(win_choice_v),dummary_dict)\n",
    "            \n",
    "        \n",
    "#at this point want to delete k entries \n",
    "\n",
    "        for key in random.sample(dummary_dict.keys(), k):\n",
    "            del dummary_dict[key]     \n",
    "\n",
    "\n",
    "        dummary_dict.update(win_choice_dict)\n",
    "        choice_dict=dummary_dict\n",
    "\n",
    "    return choice_dict"
   ]
  },
  {
   "cell_type": "code",
   "execution_count": 204,
   "metadata": {
    "collapsed": true
   },
   "outputs": [],
   "source": [
    "def final_decision(choice_dict, player_choice, decision):\n",
    "    \n",
    "\n",
    "    \n",
    "    if decision=='Stay':\n",
    "        ext = 'Choice '\n",
    "        player_choice_key=(ext + str(player_choice))\n",
    "        if choice_dict.get(player_choice_key)=='Lose':\n",
    "            return 'Lost'\n",
    "        elif choice_dict.get(player_choice_key)=='Win':\n",
    "            return 'Won'\n",
    "        \n",
    "        \n",
    "    elif decision=='Switch':\n",
    "        ext = 'Choice '\n",
    "        player_choice_key=(ext + str(player_choice))\n",
    "        \n",
    "        dummy_dict=choice_dict.copy()\n",
    "        dummy_dict.pop(player_choice_key)\n",
    "        dummy_dict2=dummy_dict.copy()\n",
    "        \n",
    "        random_choice_key=random.choice(list(dummy_dict2))\n",
    "        \n",
    "        if dummy_dict2.get(random_choice_key)=='Lose':\n",
    "            return 'Lost'\n",
    "        elif dummy_dict2.get(random_choice_key)=='Win':\n",
    "            return 'Won'"
   ]
  },
  {
   "cell_type": "code",
   "execution_count": 205,
   "metadata": {
    "collapsed": false
   },
   "outputs": [
    {
     "data": {
      "text/plain": [
       "'Won'"
      ]
     },
     "execution_count": 205,
     "metadata": {},
     "output_type": "execute_result"
    }
   ],
   "source": [
    "#def final_decision(choice_dict, player_choice, decision)\n",
    "choice_dictA= {'Choice 1': 'Win','Choice 2': 'Lose','Choice 3': 'Win','Choice 4': 'Lose','Choice 5': 'Win','Choice 6': 'Lose'}   \n",
    "\n",
    "final_decision(choice_dictA,1,'Stay')"
   ]
  },
  {
   "cell_type": "code",
   "execution_count": 210,
   "metadata": {
    "collapsed": true
   },
   "outputs": [],
   "source": [
    "#define first choice function to randomise the first choice EU makes during game\n",
    "def first_choice(choice_dict):\n",
    "\n",
    "\n",
    "#number of keys in dictinary gives 1, n range\n",
    "    n=len(choice_dict)\n",
    "#player selects random number between 1 to n\n",
    "    random_no=random.randrange(1, n+1)\n",
    "\n",
    "#look up using choice_dict to find what's behind door\n",
    "\n",
    "    return random_no"
   ]
  },
  {
   "cell_type": "code",
   "execution_count": null,
   "metadata": {
    "collapsed": true
   },
   "outputs": [],
   "source": [
    "def simulate_game(n, k, decision):\n",
    "    num_won = 0 \n",
    "    num_loss = 0\n",
    "    #Variable to keep a track of the number of times the player won \n",
    "    assert decision == 'Switch' or decision == 'Stay' , \"Check the parameter input for decision variable\"\n",
    "    \n",
    "    \n",
    "    for i in range(1000):\n",
    "     \n",
    "    \n",
    "    #create dictionary of \n",
    "        choice_dict=initialize_game(n)\n",
    "    \n",
    "    #first choice\n",
    "        player_first=first_choice(choice_dict)\n",
    "    \n",
    "    #monty opens, gives dictionary\n",
    "        choice_dict=monty_opens(choice_dict,player_first,k)\n",
    "    \n",
    "    #win or lose\n",
    "        result=final_decision(choice_dict, player_first, decision)\n",
    "    \n",
    "        if result == 'Won':\n",
    "            num_won +=1\n",
    "            \n",
    "        else: \n",
    "            num_loss +=1\n",
    "        \n",
    "    print(\"Number of wins: %s.\" % num_won)\n",
    "    print(\"Number of losses: %s.\" % num_loss)\n",
    "    \n",
    "        \n",
    "    #return(num_won)"
   ]
  },
  {
   "cell_type": "code",
   "execution_count": 221,
   "metadata": {
    "collapsed": false
   },
   "outputs": [],
   "source": [
    "#simulating 1000 iterations of games with 100 choices\n",
    "#each iteration there is a 50/50 chance on whether stay or switch\n",
    "#range of k values from 1 to 10\n",
    "#compute number of wins and losses for each\n",
    "\n",
    "\n",
    "\n",
    "def simulate_game(k, decision):\n",
    "    n=100    \n",
    "    num_won = 0 \n",
    "    num_loss = 0\n",
    "    #Variable to keep a track of the number of times the player won \n",
    "    #assert decision == 'Switch' or decision == 'Stay' , \"Check the parameter input for decision variable\"\n",
    "    \n",
    "    \n",
    "    for i in range(1000):\n",
    "     \n",
    "    \n",
    "    #create dictionary of \n",
    "        choice_dict=initialize_game(n)\n",
    "    \n",
    "    #first choice\n",
    "        player_first=first_choice(choice_dict)\n",
    "    \n",
    "    #monty opens, gives dictionary\n",
    "        choice_dict=monty_opens(choice_dict,player_first,k)\n",
    "    \n",
    "    #win or lose\n",
    "        result=final_decision(choice_dict, player_first, decision)\n",
    "    \n",
    "        if result == 'Won':\n",
    "            num_won +=1\n",
    "            \n",
    "        else: \n",
    "            num_loss +=1\n",
    "        \n",
    "    print(\"Number of wins: %s.\" % num_won)\n",
    "    print(\"Number of losses: %s.\" % num_loss)\n",
    "    \n",
    "        \n",
    "    #return(num_won)"
   ]
  },
  {
   "cell_type": "code",
   "execution_count": 222,
   "metadata": {
    "collapsed": false
   },
   "outputs": [
    {
     "name": "stdout",
     "output_type": "stream",
     "text": [
      "Number of wins: 5075.\n",
      "Number of losses: 4925.\n"
     ]
    }
   ],
   "source": [
    "simulate_game(100, 5, 'Stay')"
   ]
  }
 ],
 "metadata": {
  "kernelspec": {
   "display_name": "Python 3",
   "language": "python",
   "name": "python3"
  },
  "language_info": {
   "codemirror_mode": {
    "name": "ipython",
    "version": 3
   },
   "file_extension": ".py",
   "mimetype": "text/x-python",
   "name": "python",
   "nbconvert_exporter": "python",
   "pygments_lexer": "ipython3",
   "version": "3.5.2"
  }
 },
 "nbformat": 4,
 "nbformat_minor": 2
}
