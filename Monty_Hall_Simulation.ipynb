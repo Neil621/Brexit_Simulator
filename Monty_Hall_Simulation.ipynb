{
 "cells": [
  {
   "cell_type": "code",
   "execution_count": 36,
   "metadata": {
    "collapsed": false,
    "deletable": true,
    "editable": true
   },
   "outputs": [],
   "source": [
    "#start game with range of 1 to n+1 choices where n is an even number\n",
    "#randomly assign \"Positive\" outcomes to 50%\n",
    "\n",
    "\n",
    "import random \n",
    "\n",
    "#start game with range of 1 to n+1 \"choices\"\n",
    "#for one randomly generated number in range\n",
    "\n",
    "def initialize_game(n):\n",
    "    #check n is even\n",
    "    assert n% 2 == 0\n",
    "    from random import randrange\n",
    "    \n",
    "    numbers = range(1,n+1)\n",
    "    winning_numbers=range(1,n+1,2)\n",
    "    #random_no=random.randrange(1, n+1)\n",
    "\n",
    "    \n",
    "    choice_dict = {}\n",
    "    \n",
    "# Add values to `new_dict` using for loop\n",
    "    for i in numbers:\n",
    "            choice_dict['Choice '+str(i)]= 'Lose'\n",
    "            #if i == random_no:\n",
    "            for i in winning_numbers:\n",
    "                choice_dict['Choice '+str(i)] = 'Win'\n",
    "    return choice_dict"
   ]
  },
  {
   "cell_type": "code",
   "execution_count": 61,
   "metadata": {
    "collapsed": false
   },
   "outputs": [
    {
     "data": {
      "text/plain": [
       "{'Choice 1': 'Win',\n",
       " 'Choice 2': 'Lose',\n",
       " 'Choice 3': 'Win',\n",
       " 'Choice 4': 'Lose',\n",
       " 'Choice 5': 'Win',\n",
       " 'Choice 6': 'Lose'}"
      ]
     },
     "execution_count": 61,
     "metadata": {},
     "output_type": "execute_result"
    }
   ],
   "source": [
    "initialize_game(6)"
   ]
  },
  {
   "cell_type": "code",
   "execution_count": null,
   "metadata": {
    "collapsed": true
   },
   "outputs": [],
   "source": [
    "#define function to delete items from dictionary\n",
    "def entries_to_remove(entries, the_dict):\n",
    "    for key in entries:\n",
    "        if key in the_dict:\n",
    "            del the_dict[key]"
   ]
  },
  {
   "cell_type": "code",
   "execution_count": 105,
   "metadata": {
    "collapsed": false
   },
   "outputs": [],
   "source": [
    "import random\n",
    "\n",
    "#the object here is to simulate the EU \n",
    "#seeing a selection of \"negative\" choices (k) and being able to avoid them\n",
    "#the k negative choices once revealed are removed from selection\n",
    "\n",
    "def monty_opens(choice_dict, player_choice, k):\n",
    "    assert type(choice_dict) is dict, \"input variable choice_dict should be a dictionary\"\n",
    "    assert k <= len(choice_dict) - 2, \"Incorrect number of choices to be opened in dictionary\"\n",
    "\n",
    "\n",
    "    dummary_dict=choice_dict.copy()\n",
    "    ext = 'Choice '\n",
    "\n",
    "\n",
    "\n",
    "#1. check whether player picked a loss or a win\n",
    "    \n",
    "    \n",
    "    player_choice_key=(ext + str(player_choice))\n",
    "\n",
    "#player door entry\n",
    "    player_choice_v= {k: v for k, v in choice_dict.items() if k==player_choice_key}\n",
    "\n",
    "\n",
    "#2. find out which door has car behind it\n",
    "    win_choice_v = {k: v for k, v in choice_dict.items() if v=='Win'}\n",
    "\n",
    "#Case 1, k out of remaining n-2\n",
    "#create temp dict removing  goat (player) AND car\n",
    "\n",
    "\n",
    "\n",
    "    if choice_dict.get(player_choice_key)=='Lose':\n",
    "        player_choice_v= [k for k, v in choice_dict.items() if k==player_choice_key]\n",
    "\n",
    "        win_choice_vb = [k for k, v in choice_dict.items() if v=='Win']\n",
    "        win_choice_v=''.join(map(str, win_choice_vb))\n",
    "\n",
    "        ext = 'Choice '\n",
    "        player_choice=(ext + str(player_choice))\n",
    "\n",
    "        player_choice_dict= {k : v for k, v in choice_dict.items() if k==player_choice_key}\n",
    "        win_choice_dict = {k : v for k, v in choice_dict.items() if v=='Win'}\n",
    "        player_choice_dict.update(win_choice_dict) \n",
    "         \n",
    "\n",
    "#remove player choice\n",
    "        #if player_choice in dummary_dict:\n",
    "        del dummary_dict[player_choice_key]\n",
    "\n",
    "    \n",
    "#also remove win choice\n",
    "        #if win_choice_v in dummary_dict:\n",
    "        #del dummary_dict[win_choice_v]\n",
    "        entries_to_remove(win_choice_v,dummary_dict)\n",
    "    \n",
    "#at this point want to delete k entries \n",
    "\n",
    "        for key in random.sample(dummary_dict.keys(), k):\n",
    "            del dummary_dict[key]     \n",
    "        \n",
    "        ###\n",
    "        dummary_dict.update(player_choice_dict) \n",
    "        choice_dict=dummary_dict\n",
    "    \n",
    "#case 2, k out of remaining n-1\n",
    "    elif choice_dict.get(player_choice_key)=='Lose':\n",
    "    \n",
    "         \n",
    "        ext = 'Choice '\n",
    "        player_choice_key=(ext + str(player_choice))\n",
    "        player_choice_v= [k for k, v in choice_dict.items() if k==player_choice_key]\n",
    "        player_choice_dict= {k : v for k, v in choice_dict.items() if k==player_choice_key}\n",
    "    \n",
    "    \n",
    "#remove player choice\n",
    "         #if player_choice in dummary_dict:\n",
    "        del dummary_dict[player_choice_key]\n",
    "        \n",
    "            \n",
    "        \n",
    "#at this point want to delete k entries \n",
    "\n",
    "        for key in random.sample(dummary_dict.keys(), k):\n",
    "            del dummary_dict[key]     \n",
    "\n",
    "\n",
    "        dummary_dict.update(player_choice_dict)\n",
    "        choice_dict=dummary_dict\n",
    "\n",
    "    return choice_dict"
   ]
  },
  {
   "cell_type": "code",
   "execution_count": 108,
   "metadata": {
    "collapsed": false
   },
   "outputs": [
    {
     "data": {
      "text/plain": [
       "{'Choice 1': 'Win',\n",
       " 'Choice 3': 'Win',\n",
       " 'Choice 4': 'Lose',\n",
       " 'Choice 5': 'Win',\n",
       " 'Choice 6': 'Lose',\n",
       " 'Choice 7': 'Win'}"
      ]
     },
     "execution_count": 108,
     "metadata": {},
     "output_type": "execute_result"
    }
   ],
   "source": [
    "monty_opens(initialize_game(8), 4, 4)"
   ]
  },
  {
   "cell_type": "code",
   "execution_count": null,
   "metadata": {
    "collapsed": true
   },
   "outputs": [],
   "source": [
    "import random\n",
    "\n",
    "#the object here is to simulate the EU \n",
    "#seeing a selection of \"negative\" choices (k) and being able to avoid them\n",
    "#the k negative choices once revealed are removed from selection\n",
    "\n",
    "def testing(choice_dict, player_choice, k):\n",
    "    assert type(choice_dict) is dict, \"input variable choice_dict should be a dictionary\"\n",
    "    assert k <= len(choice_dict) - 2, \"Incorrect number of choices to be opened in dictionary\"\n",
    "\n",
    "\n",
    "    dummary_dict=choice_dict.copy()\n",
    "    ext = 'Choice '\n",
    "\n",
    "\n",
    "\n",
    "#1. check whether player picked a loss or a win\n",
    "    \n",
    "    \n",
    "    player_choice_key=(ext + str(player_choice))\n",
    "\n",
    "#player door entry\n",
    "    player_choice_v= {k: v for k, v in choice_dict.items() if k==player_choice_key}\n",
    "\n",
    "\n",
    "#2. find out which door has car behind it\n",
    "    win_choice_v = {k: v for k, v in choice_dict.items() if v=='Win'}\n",
    "\n",
    "#Case 1, k out of remaining n-2\n",
    "#create temp dict removing  goat (player) AND car\n",
    "\n",
    "\n",
    "\n",
    "    if choice_dict.get(player_choice_key)=='Lose':\n",
    "        player_choice_v= [k for k, v in choice_dict.items() if k==player_choice_key]\n",
    "\n",
    "        win_choice_vb = [k for k, v in choice_dict.items() if v=='Win']\n",
    "        win_choice_v=','.join(map(str, [win_choice_vb]))\n",
    "\n",
    "        ext = 'Choice '\n",
    "        player_choice=(ext + str(player_choice))\n",
    "\n",
    "        player_choice_dict= {k : v for k, v in choice_dict.items() if k==player_choice_key}\n",
    "        win_choice_dict = {k : v for k, v in choice_dict.items() if v=='Win'}\n",
    "        player_choice_dict.update(win_choice_dict) \n",
    "         \n",
    "\n",
    "#remove player choice\n",
    "        #if player_choice in dummary_dict:\n",
    "        del dummary_dict[player_choice_key]\n",
    "\n",
    "    \n",
    "#also remove win choice\n",
    "        #if win_choice_v in dummary_dict:\n",
    "        del dummary_dict[win_choice_v]\n",
    "    \n",
    "#at this point want to delete k entries \n",
    "\n",
    "        for key in random.sample(dummary_dict.keys(), k):\n",
    "            del dummary_dict[key]     \n",
    "        \n",
    "        ###\n",
    "        dummary_dict.update(player_choice_dict) \n",
    "        choice_dict=dummary_dict\n",
    "    \n",
    "\n",
    "    return choice_dict"
   ]
  },
  {
   "cell_type": "code",
   "execution_count": null,
   "metadata": {
    "collapsed": true
   },
   "outputs": [],
   "source": [
    "#define function to delete items from dictionary\n",
    "def entries_to_remove(entries, the_dict):\n",
    "    for key in entries:\n",
    "        if key in the_dict:\n",
    "            del the_dict[key]"
   ]
  },
  {
   "cell_type": "code",
   "execution_count": 84,
   "metadata": {
    "collapsed": false
   },
   "outputs": [
    {
     "data": {
      "text/plain": [
       "\"['Choice 5', 'Choice 1', 'Choice 3']\""
      ]
     },
     "execution_count": 84,
     "metadata": {},
     "output_type": "execute_result"
    }
   ],
   "source": [
    "win_choice_v"
   ]
  },
  {
   "cell_type": "code",
   "execution_count": 91,
   "metadata": {
    "collapsed": false
   },
   "outputs": [
    {
     "data": {
      "text/plain": [
       "{'Choice 2': 'Lose', 'Choice 4': 'Lose', 'Choice 6': 'Lose'}"
      ]
     },
     "execution_count": 91,
     "metadata": {},
     "output_type": "execute_result"
    }
   ],
   "source": [
    "choice_dict= {'Choice 1': 'Win','Choice 2': 'Lose','Choice 3': 'Win','Choice 4': 'Lose','Choice 5': 'Win','Choice 6': 'Lose'}   \n",
    "win_choice_v = {k: v for k, v in choice_dict.items() if v=='Win'}\n",
    "entries_to_remove(win_choice_v,choice_dict)\n",
    "choice_dict\n"
   ]
  },
  {
   "cell_type": "code",
   "execution_count": 103,
   "metadata": {
    "collapsed": false
   },
   "outputs": [],
   "source": [
    "import random\n",
    "\n",
    "#the object here is to simulate the EU \n",
    "#seeing a selection of \"negative\" choices (k) and being able to avoid them\n",
    "#the k negative choices once revealed are removed from selection\n",
    "\n",
    "\n",
    "choice_dict= {'Choice 1': 'Win','Choice 2': 'Lose','Choice 3': 'Win','Choice 4': 'Lose','Choice 5': 'Win','Choice 6': 'Lose'}   \n",
    "player_choice=4\n",
    "k=2\n",
    "\n",
    "dummary_dict=choice_dict.copy()\n",
    "ext = 'Choice '\n",
    "\n",
    "\n",
    "\n",
    "#1. check whether player picked a loss or a win\n",
    "    \n",
    "    \n",
    "player_choice_key=(ext + str(player_choice))\n",
    "\n",
    "#player door entry\n",
    "player_choice_v= {k: v for k, v in choice_dict.items() if k==player_choice_key}\n",
    "\n",
    "\n",
    "#2. find out which door has car behind it\n",
    "win_choice_v = {k: v for k, v in choice_dict.items() if v=='Win'}\n",
    "\n",
    "#Case 1, k out of remaining n-2\n",
    "#create temp dict removing  goat (player) AND car\n",
    "\n",
    "\n",
    "\n",
    "if choice_dict.get(player_choice_key)=='Lose':\n",
    "    player_choice_v= [k for k, v in choice_dict.items() if k==player_choice_key]\n",
    "\n",
    "    win_choice_vb = [k for k, v in choice_dict.items() if v=='Win']\n",
    "    win_choice_v=''.join(map(str, [win_choice_vb]))\n",
    "\n",
    "    ext = 'Choice '\n",
    "    player_choice=(ext + str(player_choice))\n",
    "    player_choice_dict= {k : v for k, v in choice_dict.items() if k==player_choice_key}\n",
    "    win_choice_dict = {k : v for k, v in choice_dict.items() if v=='Win'}\n",
    "    player_choice_dict.update(win_choice_dict) \n",
    "         \n",
    "\n",
    "#remove player choice\n",
    "        #if player_choice in dummary_dict:\n",
    "    del dummary_dict[player_choice_key]\n",
    "\n",
    "    \n",
    "#also remove win choice\n",
    "        #if win_choice_v in dummary_dict:\n",
    "    \n",
    "    entries_to_remove(win_choice_v,dummary_dict)\n",
    "    #del dummary_dict[win_choice_v]\n",
    "    \n",
    "#at this point want to delete k entries \n",
    "    for key in random.sample(dummary_dict.keys(), k):\n",
    "        del dummary_dict[key]     \n",
    "        \n",
    "        ###\n",
    "    dummary_dict.update(player_choice_dict) \n",
    "    choice_dict=dummary_dict\n",
    "    \n",
    "    "
   ]
  },
  {
   "cell_type": "code",
   "execution_count": 104,
   "metadata": {
    "collapsed": false
   },
   "outputs": [
    {
     "data": {
      "text/plain": [
       "{'Choice 1': 'Win',\n",
       " 'Choice 2': 'Lose',\n",
       " 'Choice 3': 'Win',\n",
       " 'Choice 4': 'Lose',\n",
       " 'Choice 5': 'Win'}"
      ]
     },
     "execution_count": 104,
     "metadata": {},
     "output_type": "execute_result"
    }
   ],
   "source": [
    "choice_dict"
   ]
  },
  {
   "cell_type": "code",
   "execution_count": 68,
   "metadata": {
    "collapsed": true
   },
   "outputs": [],
   "source": [
    "# Creating a dictionary \n",
    "myDict = {1: 'Geeks', 2: 'For', 3: 'Geeks'} \n",
    "  \n",
    "# list of delete keys \n",
    "delete = [] \n",
    "for key, val in myDict.items(): \n",
    "    if val == 'Geeks': \n",
    "        delete.append(key) \n",
    "          \n",
    "for i in delete: \n",
    "    del myDict[i] "
   ]
  },
  {
   "cell_type": "code",
   "execution_count": 70,
   "metadata": {
    "collapsed": false
   },
   "outputs": [],
   "source": [
    "\n",
    "def entries_to_remove(entries, the_dict):\n",
    "    for key in entries:\n",
    "        if key in the_dict:\n",
    "            del the_dict[key]\n"
   ]
  },
  {
   "cell_type": "code",
   "execution_count": 88,
   "metadata": {
    "collapsed": false
   },
   "outputs": [
    {
     "data": {
      "text/plain": [
       "{'Choice 2': 'Lose', 'Choice 4': 'Lose', 'Choice 6': 'Lose'}"
      ]
     },
     "execution_count": 88,
     "metadata": {},
     "output_type": "execute_result"
    }
   ],
   "source": [
    "entries = ('a', 'b', 'c')\n",
    "the_dict = {'b': 'foo'}\n",
    "\n",
    "choice_dict= {'Choice 1': 'Win','Choice 2': 'Lose','Choice 3': 'Win','Choice 4': 'Lose','Choice 5': 'Win','Choice 6': 'Lose'}   \n",
    "aa=['Choice 5', 'Choice 1', 'Choice 3']\n",
    "\n",
    "entries_to_remove(aa, choice_dict)\n",
    "choice_dict"
   ]
  },
  {
   "cell_type": "code",
   "execution_count": 87,
   "metadata": {
    "collapsed": false
   },
   "outputs": [
    {
     "ename": "AttributeError",
     "evalue": "'list' object has no attribute 'type'",
     "output_type": "error",
     "traceback": [
      "\u001b[0;31m---------------------------------------------------------------------------\u001b[0m",
      "\u001b[0;31mAttributeError\u001b[0m                            Traceback (most recent call last)",
      "\u001b[0;32m<ipython-input-87-7eed0a69d7d6>\u001b[0m in \u001b[0;36m<module>\u001b[0;34m\u001b[0m\n\u001b[1;32m      1\u001b[0m \u001b[0maa\u001b[0m\u001b[0;34m=\u001b[0m\u001b[0;34m[\u001b[0m\u001b[0;34m'Choice 5'\u001b[0m\u001b[0;34m,\u001b[0m \u001b[0;34m'Choice 1'\u001b[0m\u001b[0;34m,\u001b[0m \u001b[0;34m'Choice 3'\u001b[0m\u001b[0;34m]\u001b[0m\u001b[0;34m\u001b[0m\u001b[0m\n\u001b[0;32m----> 2\u001b[0;31m \u001b[0maa\u001b[0m\u001b[0;34m.\u001b[0m\u001b[0mtype\u001b[0m\u001b[0;34m\u001b[0m\u001b[0m\n\u001b[0m",
      "\u001b[0;31mAttributeError\u001b[0m: 'list' object has no attribute 'type'"
     ]
    }
   ],
   "source": [
    "aa=['Choice 5', 'Choice 1', 'Choice 3']\n",
    "aa.type"
   ]
  }
 ],
 "metadata": {
  "kernelspec": {
   "display_name": "Python 3",
   "language": "python",
   "name": "python3"
  },
  "language_info": {
   "codemirror_mode": {
    "name": "ipython",
    "version": 3
   },
   "file_extension": ".py",
   "mimetype": "text/x-python",
   "name": "python",
   "nbconvert_exporter": "python",
   "pygments_lexer": "ipython3",
   "version": "3.5.2"
  }
 },
 "nbformat": 4,
 "nbformat_minor": 2
}
